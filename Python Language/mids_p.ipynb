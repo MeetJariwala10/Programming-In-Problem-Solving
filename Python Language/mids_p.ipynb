{
  "cells": [
    {
      "cell_type": "code",
      "execution_count": 1,
      "metadata": {
        "colab": {
          "base_uri": "https://localhost:8080/"
        },
        "id": "q5rK9BW_9yOI",
        "outputId": "988c85be-3703-40ba-f30d-c27562882026"
      },
      "outputs": [
        {
          "name": "stdout",
          "output_type": "stream",
          "text": [
            "{'h': 1, 'e': 1, 'l': 3, 'o': 2, ' ': 1, 'w': 1, 'r': 1, 'd': 1}\n"
          ]
        }
      ],
      "source": [
        "# To take string from user and create dictionary with characters from given string as key and count each characters as its value\n",
        "\n",
        "s1 = input(\"Enter string :\")\n",
        "dic = {}\n",
        "for ele in s1:\n",
        "    dic[ele] = dic.get(ele, 0)+1\n",
        "print(dic)"
      ]
    }
  ],
  "metadata": {
    "colab": {
      "provenance": []
    },
    "kernelspec": {
      "display_name": "Python 3",
      "name": "python3"
    },
    "language_info": {
      "codemirror_mode": {
        "name": "ipython",
        "version": 3
      },
      "file_extension": ".py",
      "mimetype": "text/x-python",
      "name": "python",
      "nbconvert_exporter": "python",
      "pygments_lexer": "ipython3",
      "version": "3.11.2"
    }
  },
  "nbformat": 4,
  "nbformat_minor": 0
}
