{
  "nbformat": 4,
  "nbformat_minor": 0,
  "metadata": {
    "colab": {
      "provenance": []
    },
    "kernelspec": {
      "name": "python3",
      "display_name": "Python 3"
    },
    "language_info": {
      "name": "python"
    }
  },
  "cells": [
    {
      "cell_type": "code",
      "execution_count": 5,
      "metadata": {
        "colab": {
          "base_uri": "https://localhost:8080/"
        },
        "id": "XoeXVKEuK91z",
        "outputId": "2243fab7-ee17-43ee-fcd7-e766b21f5b0d"
      },
      "outputs": [
        {
          "output_type": "stream",
          "name": "stdout",
          "text": [
            "Enter coefficient of x^2 :1\n",
            "Enter coefficient of x :1\n",
            "Enter value of constant :5\n",
            "Complex roots\n"
          ]
        }
      ],
      "source": [
        "# Q-60 --> Write a Python function to find the roots of a quadratic equation\n",
        "def root(a,b,c):\n",
        "  d = b**2 - 4*a*c\n",
        "  if d>=0:\n",
        "    r1 = (-b + (d)**0.5)/2*a\n",
        "    r2 = (-b - (d)**0.5)/2*a\n",
        "    print(\"Roots are\", r1,\"and\", r2)\n",
        "  elif d<0:\n",
        "    print(\"Complex roots\")\n",
        "a = int(input(\"Enter coefficient of x^2 :\"))\n",
        "b = int(input(\"Enter coefficient of x :\"))\n",
        "c = int(input(\"Enter value of constant :\"))\n",
        "root(a,b,c)\n",
        "\n",
        "\n"
      ]
    }
  ]
}