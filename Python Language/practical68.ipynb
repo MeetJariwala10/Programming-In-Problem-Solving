{
 "cells": [
  {
   "cell_type": "code",
   "execution_count": 7,
   "metadata": {},
   "outputs": [
    {
     "name": "stdout",
     "output_type": "stream",
     "text": [
      "Enter sentence with space :  HELLO I AM MEET JARIWALA\n",
      "Number of words = 5\n"
     ]
    }
   ],
   "source": [
    "# Q-68 --->  A python program to find the number of words in a string\n",
    "\n",
    "S1 = input(\"Enter sentence with space :  \")\n",
    "l1 = S1.split()\n",
    "print(\"Number of words = %d\" %(len(l1)))"
   ]
  },
  {
   "cell_type": "code",
   "execution_count": null,
   "metadata": {},
   "outputs": [],
   "source": []
  }
 ],
 "metadata": {
  "kernelspec": {
   "display_name": "Python 3",
   "language": "python",
   "name": "python3"
  },
  "language_info": {
   "codemirror_mode": {
    "name": "ipython",
    "version": 3
   },
   "file_extension": ".py",
   "mimetype": "text/x-python",
   "name": "python",
   "nbconvert_exporter": "python",
   "pygments_lexer": "ipython3",
   "version": "3.7.3"
  }
 },
 "nbformat": 4,
 "nbformat_minor": 2
}
