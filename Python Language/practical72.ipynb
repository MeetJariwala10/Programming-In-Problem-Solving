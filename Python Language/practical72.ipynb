{
 "cells": [
  {
   "cell_type": "code",
   "execution_count": 8,
   "metadata": {},
   "outputs": [
    {
     "name": "stdout",
     "output_type": "stream",
     "text": [
      "Enter size :5\n",
      "Enter state : 1\n",
      "Enter capital : 2\n",
      "Enter state : m\n",
      "Enter capital : n\n",
      "Enter state : o\n",
      "Enter capital : p\n",
      "Enter state : j\n",
      "Enter capital : k\n",
      "Enter state : l\n",
      "Enter capital : m\n",
      "List is ['1', 'm', 'o', 'j', 'l'] ['2', 'n', 'p', 'k', 'm']\n",
      "The dictionary is {'1': '2', 'm': 'n', 'o': 'p', 'j': 'k', 'l': 'm'}\n"
     ]
    }
   ],
   "source": [
    "# Q-72 ---> A python program to convert the elements of two lists into key-value pairs of a dictionary\n",
    "n = int(input(\"Enter size :\"))\n",
    "l1=[]\n",
    "l2=[]\n",
    "for i in range(n):\n",
    "    ele1 = input(\"Enter state : \")\n",
    "    l1.append(ele1)\n",
    "    ele2 = input(\"Enter capital : \")\n",
    "    l2.append(ele2)\n",
    "print(\"List is\", l1,l2)\n",
    "dict = {}\n",
    "for i in range(n):\n",
    "    dict.update({l1[i]:l2[i]})\n",
    "print(\"The dictionary is\",dict)"
   ]
  },
  {
   "cell_type": "code",
   "execution_count": null,
   "metadata": {},
   "outputs": [],
   "source": []
  },
  {
   "cell_type": "code",
   "execution_count": null,
   "metadata": {},
   "outputs": [],
   "source": []
  },
  {
   "cell_type": "code",
   "execution_count": null,
   "metadata": {},
   "outputs": [],
   "source": []
  },
  {
   "cell_type": "code",
   "execution_count": null,
   "metadata": {},
   "outputs": [],
   "source": []
  }
 ],
 "metadata": {
  "kernelspec": {
   "display_name": "Python 3",
   "language": "python",
   "name": "python3"
  },
  "language_info": {
   "codemirror_mode": {
    "name": "ipython",
    "version": 3
   },
   "file_extension": ".py",
   "mimetype": "text/x-python",
   "name": "python",
   "nbconvert_exporter": "python",
   "pygments_lexer": "ipython3",
   "version": "3.7.3"
  }
 },
 "nbformat": 4,
 "nbformat_minor": 2
}
