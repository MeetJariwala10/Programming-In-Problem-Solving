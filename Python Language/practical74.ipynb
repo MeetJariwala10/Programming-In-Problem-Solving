{
  "nbformat": 4,
  "nbformat_minor": 0,
  "metadata": {
    "colab": {
      "provenance": []
    },
    "kernelspec": {
      "name": "python3",
      "display_name": "Python 3"
    },
    "language_info": {
      "name": "python"
    }
  },
  "cells": [
    {
      "cell_type": "code",
      "execution_count": 1,
      "metadata": {
        "colab": {
          "base_uri": "https://localhost:8080/"
        },
        "id": "tmQeEUUXxMWC",
        "outputId": "0b736c31-e23a-4402-d9db-870600ba8f7d"
      },
      "outputs": [
        {
          "output_type": "stream",
          "name": "stdout",
          "text": [
            "This is class A\n",
            "This is class B\n",
            "This is class C which inherits features of both classes A and B\n"
          ]
        }
      ],
      "source": [
        "# Q-74 --> A python program to implement multiple inheritance using two base classes.\n",
        "\n",
        "class A:\n",
        "  def A(self):\n",
        "    print(\"This is class A\")\n",
        "class B:\n",
        "  def B(self):\n",
        "    print(\"This is class B\")\n",
        "class C(A,B):\n",
        "  def C(self):\n",
        "    print(\"This is class C which inherits features of both classes A and B\")\n",
        "\n",
        "o = C()\n",
        "o.A()\n",
        "o.B()\n",
        "o.C()\n",
        "\n"
      ]
    }
  ]
}