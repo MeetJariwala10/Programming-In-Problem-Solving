{
  "nbformat": 4,
  "nbformat_minor": 0,
  "metadata": {
    "colab": {
      "provenance": []
    },
    "kernelspec": {
      "name": "python3",
      "display_name": "Python 3"
    },
    "language_info": {
      "name": "python"
    }
  },
  "cells": [
    {
      "cell_type": "code",
      "execution_count": 1,
      "metadata": {
        "colab": {
          "base_uri": "https://localhost:8080/"
        },
        "id": "oPzkpt-MsyRO",
        "outputId": "98cfd5eb-ccde-4a1c-ec65-7d7104296c02"
      },
      "outputs": [
        {
          "output_type": "stream",
          "name": "stdout",
          "text": [
            "Python has more pages\n"
          ]
        }
      ],
      "source": [
        "# Q-75 --> A python program to overload greater than (>) operator to make it act on class objects.\n",
        "\n",
        "class pythonBook:\n",
        "  def __init__(self,pages):\n",
        "    self.pages=pages\n",
        "  def __gt__(self,other):\n",
        "    return self.pages>other.pages\n",
        "class cBook:\n",
        "  def __init__(self,pages):\n",
        "    self.pages=pages\n",
        "\n",
        "b1=pythonBook(700)\n",
        "b2=cBook(500)\n",
        "\n",
        "if(b1>b2):\n",
        "  print(\"Python has more pages\")\n",
        "else:\n",
        "  print(\"C has more pages\")\n",
        "\n"
      ]
    }
  ]
}