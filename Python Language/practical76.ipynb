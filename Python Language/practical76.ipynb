{
  "nbformat": 4,
  "nbformat_minor": 0,
  "metadata": {
    "colab": {
      "provenance": []
    },
    "kernelspec": {
      "name": "python3",
      "display_name": "Python 3"
    },
    "language_info": {
      "name": "python"
    }
  },
  "cells": [
    {
      "cell_type": "code",
      "execution_count": 1,
      "metadata": {
        "colab": {
          "base_uri": "https://localhost:8080/"
        },
        "id": "b50PYLQJu6fy",
        "outputId": "e7cd990c-21c2-489c-83a3-2460e871893d"
      },
      "outputs": [
        {
          "output_type": "stream",
          "name": "stdout",
          "text": [
            "50.6\n"
          ]
        }
      ],
      "source": [
        "# Q-76 --> A python program to show method overloading to find sum of two or three numbers.\n",
        "\n",
        "class Addition:\n",
        "  def __init__(self,a,b,c):\n",
        "    self.a=a\n",
        "    self.b=b\n",
        "    self.c=c\n",
        "  def __add__(self):\n",
        "    return self.a + self.b + self.c\n",
        "\n",
        "a1 = Addition(10,20.60,20)\n",
        "print(a1.a + a1.b + a1.c)"
      ]
    }
  ]
}