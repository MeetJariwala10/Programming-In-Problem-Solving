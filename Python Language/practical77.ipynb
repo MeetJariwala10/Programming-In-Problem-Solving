{
  "nbformat": 4,
  "nbformat_minor": 0,
  "metadata": {
    "colab": {
      "provenance": []
    },
    "kernelspec": {
      "name": "python3",
      "display_name": "Python 3"
    },
    "language_info": {
      "name": "python"
    }
  },
  "cells": [
    {
      "cell_type": "code",
      "execution_count": 4,
      "metadata": {
        "colab": {
          "base_uri": "https://localhost:8080/"
        },
        "id": "LZbzyhwRv1jD",
        "outputId": "7bcb33bb-3ff7-45e1-f764-19e1b8b97056"
      },
      "outputs": [
        {
          "output_type": "stream",
          "name": "stdout",
          "text": [
            "[1, 2.9, 3.4, 4, 5]\n"
          ]
        }
      ],
      "source": [
        "# Q-77 --> Apython program to call super class constructor in the sub class using super ()\n",
        "\n",
        "class Class():\n",
        "  def __init__(self,x):\n",
        "    print(x)\n",
        "class SubClass(Class):\n",
        "  def __init__(self,x):\n",
        "    super().__init__(x)\n",
        "\n",
        "x = [1, 2.9, 3.4, 4, 5]\n",
        "a = SubClass(x)"
      ]
    }
  ]
}