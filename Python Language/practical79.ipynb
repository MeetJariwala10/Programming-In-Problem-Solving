{
 "cells": [
  {
   "cell_type": "code",
   "execution_count": 3,
   "metadata": {},
   "outputs": [
    {
     "name": "stdout",
     "output_type": "stream",
     "text": [
      "[1 2 3 4 5]\n",
      "[ 1.   2.5  3.5 10.5 10. ]\n",
      "['A' 'Hello World' 'a']\n"
     ]
    }
   ],
   "source": [
    "# Q-1 --> Write a Python program to create an int, character and float array using array function.\n",
    "import numpy as np\n",
    "# int\n",
    "a = np.array([1,2,3,4,5], int)\n",
    "print(a)\n",
    "#float\n",
    "a1 = np.array([1.0,2.5,3.5,10.5,10], float)\n",
    "print(a1)\n",
    "#character\n",
    "a2 = np.array(['A', \"Hello World\", 'a'], str)\n",
    "print(a2)\n"
   ]
  },
  {
   "cell_type": "code",
   "execution_count": 5,
   "metadata": {},
   "outputs": [
    {
     "name": "stdout",
     "output_type": "stream",
     "text": [
      "[100 115 130 145 160 175 190]\n"
     ]
    }
   ],
   "source": [
    "# Q-2 -->Create an integer array from a range between 100 to 200 such that the difference between each element is 15.\n",
    "import numpy as np\n",
    "a3 = np.arange(100,200,15)\n",
    "print(a3)"
   ]
  },
  {
   "cell_type": "code",
   "execution_count": 16,
   "metadata": {},
   "outputs": [
    {
     "name": "stdout",
     "output_type": "stream",
     "text": [
      "[0 0 0 0 0 0 0 0 0 0]\n",
      "[[0 0]\n",
      " [0 0]\n",
      " [0 0]\n",
      " [0 0]\n",
      " [0 0]]\n",
      "[1 1 1 1 1 1]\n",
      "[[1 1 1]\n",
      " [1 1 1]]\n",
      "[8 8 8 8 8 8 8 8]\n"
     ]
    }
   ],
   "source": [
    "# Q-3 -->Create array for following:\n",
    "# 1 --> 1D array of 10 elements all initialized to 0\n",
    "import numpy as np\n",
    "a4 = np.zeros(10,int)\n",
    "print(a4)\n",
    "\n",
    "# 2 --> 2D array of 5 X 2 , with all elements initialized to 0\n",
    "a5 = np.zeros(10, int)\n",
    "a5 = a5.reshape(5,2)\n",
    "print(a5)\n",
    "\n",
    "# 3 --> 1D array of 6 elements all initialized to 1\n",
    "a6 = np.ones(6, int)\n",
    "print(a6)\n",
    "\n",
    "# 4 --> 2D array of 2 X 3 , with all elements initialized to 1\n",
    "a7 = np.ones(6, int)\n",
    "a7 = a7.reshape(2,3)\n",
    "print(a7)\n",
    "\n",
    "# 5 --> 1D array of 8 elements with all initialized to 8\n",
    "a8 = np.ones(8, int)*8\n",
    "print(a8)\n"
   ]
  },
  {
   "cell_type": "code",
   "execution_count": 20,
   "metadata": {},
   "outputs": [
    {
     "name": "stdout",
     "output_type": "stream",
     "text": [
      "[1.         1.44444444 1.88888889 2.33333333 2.77777778 3.22222222\n",
      " 3.66666667 4.11111111 4.55555556 5.        ]\n"
     ]
    }
   ],
   "source": [
    "# Q-4 -->Create an array of 10 values from 1 to 5 evenly spaced on a linear scale.\n",
    "import numpy as np\n",
    "a9 = np.linspace(1,5,10)\n",
    "print(a9)"
   ]
  },
  {
   "cell_type": "code",
   "execution_count": 18,
   "metadata": {},
   "outputs": [
    {
     "name": "stdout",
     "output_type": "stream",
     "text": [
      "[1.00000000e+01 2.78255940e+01 7.74263683e+01 2.15443469e+02\n",
      " 5.99484250e+02 1.66810054e+03 4.64158883e+03 1.29154967e+04\n",
      " 3.59381366e+04 1.00000000e+05]\n"
     ]
    }
   ],
   "source": [
    "# Q-5 -->Create an array of 10 values from 1 to 5 evenly spaced on log scale.\n",
    "import numpy as np\n",
    "a10 = np.logspace(1,5,10)\n",
    "print(a10)"
   ]
  },
  {
   "cell_type": "code",
   "execution_count": 24,
   "metadata": {},
   "outputs": [
    {
     "name": "stdout",
     "output_type": "stream",
     "text": [
      "[[1. 0. 0. 0. 0. 0. 0. 0. 0. 0.]\n",
      " [0. 1. 0. 0. 0. 0. 0. 0. 0. 0.]\n",
      " [0. 0. 1. 0. 0. 0. 0. 0. 0. 0.]\n",
      " [0. 0. 0. 1. 0. 0. 0. 0. 0. 0.]\n",
      " [0. 0. 0. 0. 1. 0. 0. 0. 0. 0.]\n",
      " [0. 0. 0. 0. 0. 1. 0. 0. 0. 0.]\n",
      " [0. 0. 0. 0. 0. 0. 1. 0. 0. 0.]\n",
      " [0. 0. 0. 0. 0. 0. 0. 1. 0. 0.]\n",
      " [0. 0. 0. 0. 0. 0. 0. 0. 1. 0.]\n",
      " [0. 0. 0. 0. 0. 0. 0. 0. 0. 1.]]\n"
     ]
    }
   ],
   "source": [
    "# Q-6 -->Create an identity matrix of size 10 X 10.\n",
    "import numpy as np\n",
    "a11 = np.eye(10)\n",
    "print(a11)"
   ]
  },
  {
   "cell_type": "code",
   "execution_count": 25,
   "metadata": {},
   "outputs": [
    {
     "name": "stdout",
     "output_type": "stream",
     "text": [
      "[[ 0.46592749  1.26559989 -0.82233407]\n",
      " [ 1.07537446 -0.0839332  -0.36786447]\n",
      " [ 0.15131651  1.09237195 -0.79382603]]\n"
     ]
    }
   ],
   "source": [
    "# Q-7 -->Get a 4 X 4 array of samples from the standard normal distribution using normal.\n",
    "import numpy as np\n",
    "n,m = int(input(\"Enter n :\")), int(input(\"Enter m :\"))\n",
    "a12 = np.random.normal(size = (n,m))\n",
    "print(a12)\n"
   ]
  },
  {
   "cell_type": "code",
   "execution_count": 31,
   "metadata": {},
   "outputs": [
    {
     "name": "stdout",
     "output_type": "stream",
     "text": [
      "5\n",
      "4\n"
     ]
    }
   ],
   "source": [
    "# Q-8 -->Demonstrate the use of len() function with an example.\n",
    "import numpy as np\n",
    "a13 = np.array([1,2,3,4,5])\n",
    "a14 = np.array([[1,2],[2,3],[3,4],[4,5]])\n",
    "print(len(a13))\n",
    "print(len(a14))\n"
   ]
  },
  {
   "cell_type": "code",
   "execution_count": 40,
   "metadata": {},
   "outputs": [
    {
     "name": "stdout",
     "output_type": "stream",
     "text": [
      "[1 6]\n",
      "[[1 2 3]\n",
      " [4 5 6]]\n",
      "The dimension is : 1\n",
      "The dimension is : 2\n",
      "The shape is : (2,)\n",
      "The shape is : (2, 3)\n",
      "The memory size is : 4\n",
      "The memory size is : 4\n",
      "The type of element is : int32\n",
      "The type of element is : int32\n",
      "The size is : 2\n",
      "The size is : 6\n"
     ]
    }
   ],
   "source": [
    "# Q-9 --> Demonstrate the use of following attributes with a sample program:\n",
    "import numpy as np\n",
    "a15 = np.arange(1,10,5)\n",
    "a16 = np.array([[1,2,3],[4,5,6]])\n",
    "print(a15)\n",
    "print(a16)\n",
    "\n",
    "# ndim\n",
    "print(\"The dimension is :\",a15.ndim)\n",
    "print(\"The dimension is :\",a16.ndim)\n",
    "\n",
    "# shape\n",
    "print(\"The shape is :\",a15.shape)\n",
    "print(\"The shape is :\",a16.shape)\n",
    "\n",
    "# itemsize\n",
    "print(\"The memory size is :\",a15.itemsize)\n",
    "print(\"The memory size is :\",a16.itemsize)\n",
    "\n",
    "# dtype\n",
    "print(\"The type of element is :\",a15.dtype)\n",
    "print(\"The type of element is :\",a16.dtype)\n",
    "\n",
    "# size\n",
    "print(\"The size is :\",a15.size)\n",
    "print(\"The size is :\",a16.size)"
   ]
  }
 ],
 "metadata": {
  "kernelspec": {
   "display_name": "Python 3.11.3 64-bit",
   "language": "python",
   "name": "python3"
  },
  "language_info": {
   "codemirror_mode": {
    "name": "ipython",
    "version": 3
   },
   "file_extension": ".py",
   "mimetype": "text/x-python",
   "name": "python",
   "nbconvert_exporter": "python",
   "pygments_lexer": "ipython3",
   "version": "3.11.3"
  },
  "orig_nbformat": 4,
  "vscode": {
   "interpreter": {
    "hash": "ff4b1fca65a764b45acb559e482afe389d289dd599b9f8c5fd12ff5c2ea46a65"
   }
  }
 },
 "nbformat": 4,
 "nbformat_minor": 2
}
