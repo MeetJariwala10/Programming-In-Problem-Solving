{
  "nbformat": 4,
  "nbformat_minor": 0,
  "metadata": {
    "colab": {
      "provenance": []
    },
    "kernelspec": {
      "name": "python3",
      "display_name": "Python 3"
    },
    "language_info": {
      "name": "python"
    }
  },
  "cells": [
    {
      "cell_type": "code",
      "execution_count": 10,
      "metadata": {
        "colab": {
          "base_uri": "https://localhost:8080/"
        },
        "id": "Iq9uY0jOB83E",
        "outputId": "891ef0cd-8274-4e0e-919c-c9360deca8fd"
      },
      "outputs": [
        {
          "output_type": "stream",
          "name": "stdout",
          "text": [
            "Enter number 1 : 100\n",
            "Enter number 2 :200\n",
            "The numbers before swapping are 100 and 200\n",
            "The numbers after swapping are 200 and 100\n"
          ]
        }
      ],
      "source": [
        "# Q-58 --> Write a Python function to swap two numbers.\n",
        "def swap(a,b):\n",
        "  temp = a\n",
        "  a = b\n",
        "  b = temp\n",
        "  return a,b\n",
        "\n",
        "a = int(input(\"Enter number 1 :\"))\n",
        "b = int(input(\"Enter number 2 :\"))\n",
        "print(\"The numbers before swapping are %d and %d\" %(a,b))\n",
        "a,b = swap(a,b)\n",
        "print(\"The numbers after swapping are %d and %d\"%(a,b))\n"
      ]
    }
  ]
}