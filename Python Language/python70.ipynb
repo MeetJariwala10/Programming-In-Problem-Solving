{
  "cells": [
    {
      "cell_type": "code",
      "execution_count": 1,
      "metadata": {
        "colab": {
          "base_uri": "https://localhost:8080/"
        },
        "id": "Rf3W_g1CyHkb",
        "outputId": "48c18a5c-bbc9-4a89-d0b1-b1ae079ce8a0"
      },
      "outputs": [
        {
          "output_type": "stream",
          "name": "stdout",
          "text": [
            "Enter size : 5\n",
            "Enter list :1\n",
            "Enter list :2\n",
            "Enter list :2\n",
            "Enter list :4\n",
            "Enter list :4\n",
            "The list is :  [1, 2, 2, 4, 4]\n",
            "Count : 4\n",
            "The count of 4 is 2\n"
          ]
        }
      ],
      "source": [
        "# Q-70 --->  A python program to know how many times an element occurred in the list.\n",
        "\n",
        "n = int(input(\"Enter size : \"))\n",
        "l1 = []\n",
        "for i in range(n):\n",
        "    ele1 = int(input(\"Enter list :\"))\n",
        "    l1.append(ele1)\n",
        "print(\"The list is : \", l1)\n",
        "a = int(input(\"Count : \"))\n",
        "print(\"The count of\", a,\"is\", l1.count(a))"
      ]
    }
  ],
  "metadata": {
    "kernelspec": {
      "display_name": "Python 3",
      "language": "python",
      "name": "python3"
    },
    "language_info": {
      "codemirror_mode": {
        "name": "ipython",
        "version": 3
      },
      "file_extension": ".py",
      "mimetype": "text/x-python",
      "name": "python",
      "nbconvert_exporter": "python",
      "pygments_lexer": "ipython3",
      "version": "3.11.2"
    },
    "orig_nbformat": 4,
    "colab": {
      "provenance": []
    }
  },
  "nbformat": 4,
  "nbformat_minor": 0
}