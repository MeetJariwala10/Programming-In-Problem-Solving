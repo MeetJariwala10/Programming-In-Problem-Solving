{
 "cells": [
  {
   "cell_type": "code",
   "execution_count": 19,
   "metadata": {},
   "outputs": [
    {
     "name": "stdout",
     "output_type": "stream",
     "text": [
      "enter((1, 'meet', 'maths', 100),(2, 'harsh', 'chemistry', 90), (3, 'hello', 'ES', 10), (4, 'Hi', 'egd', 99))\n",
      "((1, 'meet', 'maths', 100), (2, 'harsh', 'chemistry', 90), (3, 'hello', 'ES', 10), (4, 'Hi', 'egd', 99))\n",
      "Enter key :3\n"
     ]
    },
    {
     "data": {
      "text/plain": [
       "[(3, 'hello', 'ES', 10),\n",
       " (2, 'harsh', 'chemistry', 90),\n",
       " (4, 'Hi', 'egd', 99),\n",
       " (1, 'meet', 'maths', 100)]"
      ]
     },
     "execution_count": 19,
     "metadata": {},
     "output_type": "execute_result"
    }
   ],
   "source": [
    "# Q-71 ---> A python program to sort a tuple with nested tuples\n",
    "\n",
    "#t1 = ((1, 'meet', 'maths', 100),(2, 'harsh', 'chemistry', 90), (3, 'hello', 'ES', 10), (4, 'Hi', 'egd', 99))\n",
    "\n",
    "t1 = eval(input(\"enter\"))\n",
    "print(t1)   \n",
    "\n",
    "sort_key = int(input(\"Enter key :\"))\n",
    "sorted(t1, key = lambda x : x[sort_key])"
   ]
  }
 ],
 "metadata": {
  "kernelspec": {
   "display_name": "Python 3",
   "language": "python",
   "name": "python3"
  },
  "language_info": {
   "codemirror_mode": {
    "name": "ipython",
    "version": 3
   },
   "file_extension": ".py",
   "mimetype": "text/x-python",
   "name": "python",
   "nbconvert_exporter": "python",
   "pygments_lexer": "ipython3",
   "version": "3.7.3"
  }
 },
 "nbformat": 4,
 "nbformat_minor": 2
}
